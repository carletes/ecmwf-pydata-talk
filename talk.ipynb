{
 "cells": [
  {
   "cell_type": "markdown",
   "metadata": {
    "slideshow": {
     "slide_type": "slide"
    }
   },
   "source": [
    "## Visualising and retrieving large amounts of data\n",
    "\n",
    "Carlos Valiente ([@carletes](https://twitter.com/carletes)), on behalf of ECMWF's web people.\n",
    "\n",
    "https://github.com/ecmwf/ecmwf-pydata-talk"
   ]
  },
  {
   "cell_type": "markdown",
   "metadata": {
    "slideshow": {
     "slide_type": "slide"
    }
   },
   "source": [
    "## About ECMWF\n",
    "\n",
    "We are the [European Centre for Medium-range Weather Forecasts](http://www.ecmwf.int/).\n",
    "\n",
    "We are both a research institute and a 24x7 operational centre, funded by 34 states.\n",
    "\n",
    "We provide, among other services:\n",
    "\n",
    "  * Twice-daily global numerical weather forecasts, up to 2 weeks ahead.\n",
    "  * Longer-range forecasts, up to one year ahead.\n",
    "  * Access to our archive of meteorological data (about 100 PB as of late 2015).\n",
    "  \n",
    "Main users of our forecasts:\n",
    "\n",
    "  * Meteorologist from our member states\n",
    "  * Scientists from universities and other research centres\n",
    "  * Commercial customers"
   ]
  },
  {
   "cell_type": "markdown",
   "metadata": {
    "slideshow": {
     "slide_type": "slide"
    }
   },
   "source": [
    "## Our web applications\n",
    "\n",
    "Under http://apps.ecmwf.int we offer several web applications:\n",
    "\n",
    "  * ecCharts: A visualisation tool for our daily forecasts (restricted access)\n",
    "  * Access to our public data sets (public access, requires registration).\n",
    "  * Access to our full meteorological archive (restricted access).\n",
    "  \n",
    "![apps.ecmwf.int](./img/apps-home-page.png)"
   ]
  },
  {
   "cell_type": "markdown",
   "metadata": {
    "slideshow": {
     "slide_type": "slide"
    }
   },
   "source": [
    "## ecCharts: Visualising weather forecasts\n",
    "\n",
    "A web application for visualising our twice-daily global forecasts.\n",
    "\n",
    "![Main view](./img/forecaster-home.png)"
   ]
  },
  {
   "cell_type": "markdown",
   "metadata": {
    "slideshow": {
     "slide_type": "slide"
    }
   },
   "source": [
    "## ecCharts: Visualising weather forecasts (2)\n",
    "\n",
    "ecCharts offers pre-defined meteorological _products_\n",
    "![ecCharts products](./img/forecaster-products.png)\n"
   ]
  },
  {
   "cell_type": "markdown",
   "metadata": {
    "slideshow": {
     "slide_type": "slide"
    }
   },
   "source": [
    "## ecCharts: Visualising weather forecasts (3)\n",
    "\n",
    "Products are composed of several _layers_\n",
    "![ecCharts layers](./img/forecaster-layers.png)"
   ]
  },
  {
   "cell_type": "markdown",
   "metadata": {
    "slideshow": {
     "slide_type": "slide"
    }
   },
   "source": [
    "## ecCharts: Visualising weather forecasts (4)\n",
    "\n",
    "We provide access to the last ten model runs\n",
    "\n",
    "![ecCharts availability](./img/forecaster-availability.png)"
   ]
  },
  {
   "cell_type": "markdown",
   "metadata": {
    "slideshow": {
     "slide_type": "slide"
    }
   },
   "source": [
    "## The full stack\n",
    "\n",
    "ecCharts comprises:\n",
    "\n",
    "  * A Javascript front-end for the UI\n",
    "  * A Django HTTP back-end\n",
    "  * Several Python services for retrieving data, doing computations and plotting.\n",
    "  * Nginx instances on all cluster nodes to deliver data to the Python services.\n",
    "  * MongoDB databases for keeping track of available data."
   ]
  },
  {
   "cell_type": "markdown",
   "metadata": {
    "slideshow": {
     "slide_type": "slide"
    }
   },
   "source": [
    "## The Django HTTP back-end\n",
    "\n",
    "Things we handle here:\n",
    "\n",
    "  * Access control\n",
    "  * User preferences\n",
    "\n",
    "The Django processes dispatch requests to the Python services layer."
   ]
  },
  {
   "cell_type": "markdown",
   "metadata": {
    "slideshow": {
     "slide_type": "slide"
    }
   },
   "source": [
    "## The Python services\n",
    "\n",
    "A collection of 50+ Python services for doing data retrievals, computations on meteorological data and plotting.\n",
    "\n",
    "One instance of each service running on each of the 20+ cluster nodes\n",
    "\n",
    "First version (ca. 2009) implemented with [Twisted](https://twistedmatrix.com/trac/).\n",
    "\n",
    "Now using [Celery](http://www.celeryproject.org), with [RabbitMQ](https://www.rabbitmq.com) as message broker, and [Redis](http://redis.io) as results backend."
   ]
  },
  {
   "cell_type": "markdown",
   "metadata": {
    "slideshow": {
     "slide_type": "slide"
    }
   },
   "source": [
    "## The Python services: The Twisted days\n",
    "\n",
    "A central _broker_ process, written using Twisted, accepted HTTP requests from the Django layer.\n",
    "\n",
    "The broker processes dispatched requests to the service implementations using raw sockets.\n",
    "\n",
    "A library called `servicelib` encapsulated all this.\n",
    "\n",
    "```python\n",
    "# The inevitable `echo` and `sum` services\n",
    "from servicelib import errors, start_services\n",
    "\n",
    "\n",
    "def echo_service(context, *args):\n",
    "    context.log.debug(\"Executing echo() request from: %s\",\n",
    "                      context.user)\n",
    "    return \" \".join(args)\n",
    "\n",
    "def sum_service(context, *args):\n",
    "    try:\n",
    "        args = [float(a) for a in args]\n",
    "    except:\n",
    "        raise errors.BadRequest(\"Invalid args: %s\" % (args,))\n",
    "    return sum(args)\n",
    "\n",
    "\n",
    "if __name__ == \"__main__\":\n",
    "    start_services({\"name\": \"sum\", \"execute\": \"sum_survice\"},\n",
    "                   {\"name\": \"echo\", \"execute\": \"echo_service\"})\n",
    "```"
   ]
  },
  {
   "cell_type": "markdown",
   "metadata": {
    "slideshow": {
     "slide_type": "slide"
    }
   },
   "source": [
    "## The Python services: The orchestrator service\n",
    "\n",
    "A service called `orchestrator` let us build complex call trees:\n",
    "\n",
    "![A service call tree](./img/forecaster-calltree.png)"
   ]
  },
  {
   "cell_type": "markdown",
   "metadata": {
    "slideshow": {
     "slide_type": "slide"
    }
   },
   "source": [
    "## The Python services: The orchestrator service (II)\n",
    "\n",
    "A service called `orchestrator` let us build complex call trees:\n",
    "\n",
    "```python\n",
    "from servicelib.client import Broker\n",
    "\n",
    "\n",
    "broker = Broker()\n",
    "broker.execute(\"orchestrator\",\n",
    "               {\n",
    "                 \"render\": [\n",
    "                     \"plot\": [\n",
    "                         \"retrieve\": [\n",
    "                             \"mslp\",\n",
    "                         ]\n",
    "                     ],\n",
    "                     \"plot\": [\n",
    "                         \"wind_speed\": [\n",
    "                             \"retrive\": [\n",
    "                                 \"10mw_u\"\n",
    "                             ],\n",
    "                             \"retrieve\": [\n",
    "                                 \"10mw_v\"\n",
    "                             ]\n",
    "                         ]\n",
    "                     ],\n",
    "                     \"plot\": [\n",
    "                         \"coastlines\"\n",
    "                     ]\n",
    "                 ]\n",
    "               })\n",
    "```"
   ]
  },
  {
   "cell_type": "markdown",
   "metadata": {
    "slideshow": {
     "slide_type": "slide"
    }
   },
   "source": [
    "## The Python services: High-level services\n",
    "\n",
    "We also built a macro library to let our meteorologist write higher-level services:\n",
    "\n",
    "```python\n",
    "from metview.macro import retrieve, sqrt\n",
    "\n",
    "def wind_speed(r):\n",
    "    if r['levtype'] == 'sfc':\n",
    "        u = '165.128'\n",
    "        v = '166.128'\n",
    "    else:\n",
    "        u = '131.128'\n",
    "        v = '132.128'\n",
    "\n",
    "    r['param'] = u\n",
    "    u = retrieve(r)\n",
    "\n",
    "    r['param'] = v\n",
    "    v = retrieve(r)\n",
    "\n",
    "    return sqrt(u * u + v * v)\n",
    "\n",
    "if __name__ == \"__main__\":\n",
    "    import sys\n",
    "    from metview.macro import run\n",
    "\n",
    "return run(wind_speed, sys.argv[1:])\n",
    "```"
   ]
  },
  {
   "cell_type": "markdown",
   "metadata": {
    "slideshow": {
     "slide_type": "slide"
    }
   },
   "source": [
    "## The Python services: High-level services (II)\n",
    "\n",
    "```python\n",
    "RD     = 287.05\n",
    "RV     = 461.51\n",
    "VTMPC1 = RV/RD-1.\n",
    "TMELT  = 273.16\n",
    "C1ES   = 610.78\n",
    "C2ES   = C1ES*RD/RV\n",
    "C3LES  = 17.269\n",
    "C3IES  = 21.875\n",
    "C4LES  = 35.86\n",
    "C4IES  = 7.66\n",
    "\n",
    "def relative_humidity(r):\n",
    "    level = int(r[\"levelist\"]) \n",
    "\n",
    "    r['param'] = '130.128' \n",
    "    t = retrieve(r)\n",
    "\n",
    "    r['param'] = '133.128'\n",
    "    q = retrieve(r)\n",
    "\n",
    "    ice = (t <  TMELT)\n",
    "    water = (t >= TMELT)\n",
    "\n",
    "    z1 = ice*C3IES + water*C3LES\n",
    "    z2 = ice*C4LES + water*C4LES\n",
    "\n",
    "    relhuma = C2ES * exp(z1*(t-TMELT) / (t-z2));\n",
    "    relhuma = level * 100. / relhuma\n",
    "\n",
    "    return q * 100. * (relhuma - VTMPC1)\n",
    "```"
   ]
  },
  {
   "cell_type": "markdown",
   "metadata": {
    "slideshow": {
     "slide_type": "slide"
    }
   },
   "source": [
    "## The Python services: Caching\n",
    "\n",
    "We cache all service requests with `memcached`. Caching is done with a Python decorator, based on the MD5 hash of the request arguments.\n",
    "\n",
    "```python\n",
    "from cache import cache_control\n",
    "\n",
    "# A sample Python service\n",
    "@cache_control(time=24*60*60)\n",
    "def retrieve(context, *args):\n",
    "    # ..\n",
    "```"
   ]
  },
  {
   "cell_type": "markdown",
   "metadata": {
    "slideshow": {
     "slide_type": "slide"
    }
   },
   "source": [
    "## The Python services: Caching (2)\n",
    "\n",
    "A request with no caching:\n",
    "\n",
    "![A request with no caching](./img/forecaster-no-cache.png)"
   ]
  },
  {
   "cell_type": "markdown",
   "metadata": {
    "slideshow": {
     "slide_type": "slide"
    }
   },
   "source": [
    "## The Python services: Caching (3)\n",
    "\n",
    "A request with caching:\n",
    "\n",
    "![A request with no caching](./img/forecaster-cache.png)"
   ]
  },
  {
   "cell_type": "markdown",
   "metadata": {
    "slideshow": {
     "slide_type": "slide"
    }
   },
   "source": [
    "## The Python services: From Twisted to Celery\n",
    "\n",
    "In 2011-2012 we switched from Twisted to Celery for the services layer, because:\n",
    "\n",
    "  * Not everybody felt comfortable with Twisted's asynchronous programming model\n",
    "  * The services broker was difficult to debug\n",
    "  * We needed to implement queueing and QOS in the services broker -- lots of work, already done in Celery.\n",
    "  \n",
    "Moving to Celery meant a rewrite of our `servicelib` library. All services remained unchanged.\n",
    "\n",
    "We got rid of our services broker process, since Celery uses RabbitMQ. Rock solid setup now!"
   ]
  },
  {
   "cell_type": "markdown",
   "metadata": {
    "slideshow": {
     "slide_type": "slide"
    }
   },
   "source": [
    "## Data storage and indexing\n",
    "\n",
    "As soon as the supercomputer runs the model, we push the data for the new cycle into our web cluster.\n",
    "\n",
    "We push about 1 TB of fresh data every day.\n",
    "\n",
    "Within the web cluster, data is available to all services via HTTP, served with local instances of [Nginx](http://nginx.org)\n",
    "\n",
    "Data becomes available to our users about 30 minutes after it has been pushed, following ECMWF's official schedule of data availability.\n",
    "\n",
    "We use [MongoDB](https://www.mongodb.org) for keeping track of the data."
   ]
  },
  {
   "cell_type": "markdown",
   "metadata": {
    "slideshow": {
     "slide_type": "slide"
    }
   },
   "source": [
    "## A MongoDB index entry\n",
    "\n",
    "```\n",
    "> db.fields.findOne()\n",
    "{\n",
    "\t\"domain\" : \"g\",\n",
    "    \"class\" : \"od\"\n",
    "\t\"type\" : \"em\",\n",
    "\t\"param\" : \"151.128\",\n",
    "\t\"param_alt\" : \"msl\",\n",
    "\t\"stream\" : \"enfo\",\n",
    "\t\"levtype\" : \"sfc\",\n",
    "\t\"expver\" : \"0001\",\n",
    "    \"base_time\" : ISODate(\"2013-04-08T00:00:00Z\"),\n",
    "    \"step\" : 354,\n",
    "    \"valid_time\" : ISODate(\"2013-04-22T18:00:00Z\"),\n",
    "    \n",
    "    \"active\": true,\n",
    "    \n",
    "\t\"locations\" : [\n",
    "\t\t{\n",
    "\t\t\t\"offset\" : 0,\n",
    "\t\t\t\"url\" :\"http://host42.ecmwf.int/data0000.grib\",\n",
    "\t\t\t\"length\" : 4158\n",
    "\t\t}\n",
    "\t]\n",
    "}\n",
    ">\n",
    "```"
   ]
  },
  {
   "cell_type": "markdown",
   "metadata": {
    "slideshow": {
     "slide_type": "slide"
    }
   },
   "source": [
    "## The Python MongoDB API\n",
    "\n",
    "Very clean API, no impedance mismatch with the requests coming from the Javascript UI --- no need for a complex object-to-relational mapping:\n",
    "\n",
    "```python\n",
    "import pymongo\n",
    "\n",
    "client = pyMongo.MongoClient(\"mongodb://host:27017/\")\n",
    "db = client[\"fields\"]\n",
    "\n",
    "for rec in db.fields.find({\"param\": \"151.128\", \"base_time\": now}):\n",
    "    for loc in rec[\"locations\"]:\n",
    "        download(url=loc[\"url\"],\n",
    "                 offset=loc[\"offset\"],\n",
    "                 length=loc[\"length\"])\n",
    "        # ...\n",
    "```"
   ]
  },
  {
   "cell_type": "markdown",
   "metadata": {
    "slideshow": {
     "slide_type": "slide"
    }
   },
   "source": [
    "## MongoDB issues\n",
    "\n",
    "  * Write operations block the whole collection (makes pushing data slow).\n",
    "  * Update queries also block the whole collection (makes activation of data slow).\n",
    "  * When a new cycle is available from our supercomputer, we need to do lots of insertions and updates. Most of our users are active at that same time, when data is fresh.\n",
    "  * Every day we remove 20% of the database entries, and add a new 20%. Fragmentation hurts!\n",
    "  * MongoDB indexes are crucial, but they slow down write operations. Heavy tuning needed here.\n",
    "  \n",
    "We're moving now to MongoDB 3 (no more collection-level locks, better handling of fragmentation), and things look better."
   ]
  },
  {
   "cell_type": "markdown",
   "metadata": {
    "slideshow": {
     "slide_type": "slide"
    }
   },
   "source": [
    "## Public data sets: Batch access to data\n",
    "\n",
    "http://apps.ecmwf.int/datasets: A free service to download public data sets (requires registration)\n",
    "\n",
    "![Public datasets](./img/datasets-home.png)"
   ]
  },
  {
   "cell_type": "markdown",
   "metadata": {
    "slideshow": {
     "slide_type": "slide"
    }
   },
   "source": [
    "## Public data sets: Batch access to data (2)\n",
    "\n",
    "The UI lets you choose what data to download:\n",
    "\n",
    "![Public datasets](./img/datasets-menu.png)"
   ]
  },
  {
   "cell_type": "markdown",
   "metadata": {
    "slideshow": {
     "slide_type": "slide"
    }
   },
   "source": [
    "## Public data sets: Batch access to data (3)\n",
    "\n",
    "Users' requests are queued, processed and eventually results arrive:\n",
    "\n",
    "![Public datasets](./img/datasets-completed.png)"
   ]
  },
  {
   "cell_type": "markdown",
   "metadata": {
    "slideshow": {
     "slide_type": "slide"
    }
   },
   "source": [
    "## Public data sets: HTTP REST API\n",
    "\n",
    "Downloads also available through an [HTTP REST API](https://software.ecmwf.int/wiki/display/WEBAPI/ECMWF+Web+API+Home)\n",
    "\n",
    "Sample clients in several languages, including Python.\n",
    "\n",
    "Steps to use it:\n",
    "\n",
    "1. If you don't have an account, get one at https://apps.ecmwf.int/registration/.\n",
    "2. Login: https://apps.ecmwf.int/auth/login/\n",
    "3. Retrieve you API key at https://api.ecmwf.int/v1/key/\n",
    "4. Copy the information in that page and save it as `$HOME/.ecmwfapirc`:\n",
    "    ```\n",
    "    {\n",
    "        \"url\": \"https://api.ecmwf.int/v1\",\n",
    "        \"key\": \"XXXXXXXXXXXXXXXXXXXXXX\",\n",
    "        \"email\": \"john.smith@example.com\"\n",
    "    }\n",
    "    ```"
   ]
  },
  {
   "cell_type": "code",
   "execution_count": 9,
   "metadata": {
    "collapsed": false,
    "slideshow": {
     "slide_type": "slide"
    }
   },
   "outputs": [
    {
     "name": "stdout",
     "output_type": "stream",
     "text": [
      "2015-08-31 16:18:31 ECMWF API python library 1.3\n",
      "2015-08-31 16:18:31 ECMWF API at https://api.ecmwf.int/v1\n",
      "2015-08-31 16:18:31 Welcome Carlos Valiente\n",
      "2015-08-31 16:18:31 In case of problems, please check https://software.ecmwf.int/wiki/display/WEBAPI/Troubleshooting or contact calldesk@ecmwf.int\n",
      "2015-08-31 16:18:32 Request is queued\n",
      "Calling nice mars /tmp/tmp-marsiLKRiN.req\n",
      "PPDIR is /var/tmp/ppdir/x86_64\n",
      "mars - INFO   - 20150831.151832 - Using odb_api version: 0.10.2 (file format version: 0.5)\n",
      "mars - INFO   - 20150831.151832 - Maximum retrieval size is 20.00 G\n",
      "mars - INFO   - 20150831.151832 - Using grib_api version 1.13.1\n",
      "mars - INFO   - 20150831.151832 - odb_api created on  20140527\n",
      "mars - INFO   - 20150831.151832 - EMOSLIB version: 395\n",
      "mars - INFO   - 20150831.151832 - Welcome to MARS with grib_api and ODB\n",
      "mars - INFO   - 20150831.151832 - grib_api created on  20141119\n",
      "retrieve,origin=ammc,hdate=1981-01-01,stream=enfh,levtype=sfc,expver=prod,padding=0,step=24/to/1488/by/24,param=tp,time=00,date=2014-01-01,type=cf,class=s2,expect=anymars - INFO   - 20150831.151832 - Automatic split by date is on\n",
      "\n",
      "RETRIEVE,\n",
      "\n",
      "mars - INFO   - 20150831.151832 - Processing request 1\n",
      "    TYPE       = CF,\n",
      "    STREAM     = ENFH,\n",
      "    EXPVER     = prod,\n",
      "    REPRES     = SH,\n",
      "    CLASS      = S2,\n",
      "    PARAM      = 228228,\n",
      "    STEP       = 24/48/72/96/120/144/168/192/216/240/264/288/312/336/360/384/408/432/456/480/504/528/552/576/600/624/648/672/696/720/744/768/792/816/840/864/888/912/936/960/984/1008/1032/1056/1080/1104/1128/1152/1176/1200/1224/1248/1272/1296/1320/1344/1368/1392/1416/1440/1464/1488,\n",
      "    LEVTYPE    = SFC,\n",
      "    TIME       = 0000,\n",
      "    PADDING    = 0,\n",
      "    PROCESS    = LOCAL,\n",
      "    ORIGIN     = AMMC,\n",
      "    EXPECT     = ANY,\n",
      "    HDATE      = 1981-01-01,\n",
      "    NUMBER     = 0,\n",
      "    DATE       = 20140101\n",
      "mars - INFO   - 20150831.151832 - Web API request id: 55e47048de6efe3821ffcd9f\n",
      "\n",
      "mars - INFO   - 20150831.151832 - Calling mars on 'marsth-core', callback on 52657\n",
      "mars - INFO   - 20150831.151832 - Requesting any number of fields (request describes 62)\n",
      "mars - INFO   - 20150831.151833 - Request cost: 62 fields, 1.23867 Mbytes online, nodes: core [marsth]\n",
      "mars - WARN   - 20150831.151833 - Step 24 matches 24 and 0-24 [marsth]\n",
      "mars - INFO   - 20150831.151833 - Server task is 323 [marsth]\n",
      "mars - INFO   - 20150831.151833 - Transfering 1298838 bytes\n",
      "mars - INFO   - 20150831.151833 -   Read from network: 1.24 Mbyte(s) in < 1 sec [680.59 Mbyte/sec]\n",
      "mars - INFO   - 20150831.151833 -   Writing to target file: 1.24 Mbyte(s) in < 1 sec [569.24 Mbyte/sec]\n",
      "mars - INFO   - 20150831.151833 - No errors reported\n",
      "mars - INFO   - 20150831.151833 - 62 fields retrieved from 'marsth'\n",
      "End of nice mars /tmp/tmp-marsiLKRiN.req\n",
      "2015-08-31 16:18:33 Request is complete\n",
      "2015-08-31 16:18:33 Transfering 1.23867 Mbytes into output-file.grib\n",
      "2015-08-31 16:18:33 From http://stream.ecmwf.int/data/atls05/data/data04/scratch/mars-atls05-a562cefde8a29a7288fa0b8b7f9413f7-ztmwA4.grib\n",
      "2015-08-31 16:18:34 Transfer rate 831.949 Kbytes/s\n"
     ]
    }
   ],
   "source": [
    "import os\n",
    "import sys\n",
    "\n",
    "from ecmwfapi import ECMWFDataServer\n",
    "\n",
    "\n",
    "apirc = os.path.expanduser(\"~/.ecmwfapirc\")\n",
    "if not os.access(apirc, os.F_OK):\n",
    "    print \"API key file '{}' not found\".format(apirc)\n",
    "    sys.exit(1)\n",
    "\n",
    "server = ECMWFDataServer()\n",
    "server.retrieve({\n",
    "    \"class\": \"s2\",\n",
    "    \"dataset\": \"s2s\",\n",
    "    \"hdate\": \"1981-01-01\",\n",
    "    \"date\": \"2014-01-01\",\n",
    "    \"expver\": \"prod\",\n",
    "    \"levtype\": \"sfc\",\n",
    "    \"origin\": \"ammc\",\n",
    "    \"param\": \"tp\",\n",
    "    \"step\": \"24/to/1488/by/24\",\n",
    "    \"stream\": \"enfh\",\n",
    "    \"target\": \"output-file.grib\",\n",
    "    \"time\": \"00\",\n",
    "    \"type\": \"cf\",\n",
    "})"
   ]
  },
  {
   "cell_type": "code",
   "execution_count": 11,
   "metadata": {
    "collapsed": false,
    "slideshow": {
     "slide_type": "slide"
    }
   },
   "outputs": [
    {
     "name": "stdout",
     "output_type": "stream",
     "text": [
      "posix.stat_result(st_mode=33188, st_ino=1538608, st_dev=16777220, st_nlink=1, st_uid=501, st_gid=20, st_size=1298838, st_atime=1441034314, st_mtime=1441034314, st_ctime=1441034314)\n"
     ]
    }
   ],
   "source": [
    "import os\n",
    "\n",
    "print os.stat(\"output-file.grib\")"
   ]
  },
  {
   "cell_type": "markdown",
   "metadata": {
    "slideshow": {
     "slide_type": "slide"
    }
   },
   "source": [
    "## Links\n",
    "\n",
    "|What|Where|\n",
    "|----|-----|\n",
    "|Public API documentation|[https://software.ecmwf.int/wiki/display/WEBAPI/ECMWF+Web+API+Home](https://software.ecmwf.int/wiki/display/WEBAPI/ECMWF+Web+API+Home)|\n",
    "|Requesting access to our charts|[http://ecmwf.int/en/forecasts/accessing-forecasts](http://ecmwf.int/en/forecasts/accessing-forecasts)|"
   ]
  }
 ],
 "metadata": {
  "celltoolbar": "Slideshow",
  "kernelspec": {
   "display_name": "Python 2",
   "language": "python",
   "name": "python2"
  },
  "language_info": {
   "codemirror_mode": {
    "name": "ipython",
    "version": 2
   },
   "file_extension": ".py",
   "mimetype": "text/x-python",
   "name": "python",
   "nbconvert_exporter": "python",
   "pygments_lexer": "ipython2",
   "version": "2.7.10"
  }
 },
 "nbformat": 4,
 "nbformat_minor": 0
}
