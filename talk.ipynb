{
 "cells": [
  {
   "cell_type": "markdown",
   "metadata": {
    "slideshow": {
     "slide_type": "slide"
    }
   },
   "source": [
    "## Visualising and retrieving large amounts of data\n",
    "\n"
   ]
  },
  {
   "cell_type": "markdown",
   "metadata": {
    "slideshow": {
     "slide_type": "slide"
    }
   },
   "source": [
    "## About ECMWF\n",
    "\n",
    "We are the [European Centre for Medium-range Weather Forecasts](http://www.ecmwf.int/).\n",
    "\n",
    "We are both a research institute and a 24x7 operational centre, funded by 34 states.\n",
    "\n",
    "We provide, among other services:\n",
    "\n",
    "  * Twice-daily global numerical weather forecasts, up to 2 weeks ahead.\n",
    "  * Longer-range forecasts, up to one year ahead.\n",
    "  * Access to our archive of meteorological data (about 100 PB as of late 2015).\n",
    "  \n",
    "Full access to our forecasts only available to our member states, not to the general public."
   ]
  },
  {
   "cell_type": "markdown",
   "metadata": {
    "slideshow": {
     "slide_type": "slide"
    }
   },
   "source": [
    "## Our web applications\n",
    "\n",
    "Under http://apps.ecmwf.int we offer several web applications:\n",
    "\n",
    "  * ecCharts: A visualisation tool for our daily forecasts (restricted access)\n",
    "  * Access to our public data sets (public access, requires registration).\n",
    "  * Access to our full meteorological archive (restricted access).\n",
    "  \n",
    "![apps.ecmwf.int](./apps-home-page.png)"
   ]
  },
  {
   "cell_type": "markdown",
   "metadata": {
    "slideshow": {
     "slide_type": "slide"
    }
   },
   "source": [
    "## ecCharts: Visualising weather forecasts\n",
    "\n",
    "A web application for visualising our twice-daily global forecasts.\n",
    "\n",
    "![Main view](./forecaster-home.png)"
   ]
  },
  {
   "cell_type": "markdown",
   "metadata": {
    "slideshow": {
     "slide_type": "slide"
    }
   },
   "source": [
    "## ecCharts: Visualising weather forecasts (2)\n",
    "\n",
    "ecCharts offers pre-defined meteorological _products_\n",
    "![ecCharts products](./forecaster-products.png)\n"
   ]
  },
  {
   "cell_type": "markdown",
   "metadata": {
    "slideshow": {
     "slide_type": "slide"
    }
   },
   "source": [
    "## ecCharts: Visualising weather forecasts (3)\n",
    "\n",
    "Products are composed of several _layers_\n",
    "![ecCharts layers](./forecaster-layers.png)"
   ]
  },
  {
   "cell_type": "markdown",
   "metadata": {
    "slideshow": {
     "slide_type": "slide"
    }
   },
   "source": [
    "## ecCharts: Visualising weather forecasts (4)\n",
    "\n",
    "We provide access to the last ten model runs\n",
    "\n",
    "![ecCharts availability](./forecaster-availability.png)"
   ]
  },
  {
   "cell_type": "markdown",
   "metadata": {
    "slideshow": {
     "slide_type": "slide"
    }
   },
   "source": [
    "## The full stack\n",
    "\n",
    "ecCharts comprises:\n",
    "\n",
    "  * A Javascript front-end for the UI\n",
    "  * A Django HTTP back-end\n",
    "  * Several Python services for retrieving data, doing computations and plotting.\n",
    "  * Nginx instances on all cluster nodes to deliver data to the Python services.\n",
    "  * MongoDB databases for keeping track of available data."
   ]
  },
  {
   "cell_type": "markdown",
   "metadata": {
    "slideshow": {
     "slide_type": "slide"
    }
   },
   "source": [
    "## The Django HTTP back-end\n",
    "\n",
    "Things we handle here:\n",
    "\n",
    "  * Access control\n",
    "  * User preferences\n",
    "\n",
    "The Django processes dispatch requests to the Python services layer."
   ]
  },
  {
   "cell_type": "markdown",
   "metadata": {
    "slideshow": {
     "slide_type": "slide"
    }
   },
   "source": [
    "## The Python services\n",
    "\n",
    "A collection of 50+ Python services for doing data retrievals, computations on meteorological data and plotting.\n",
    "\n",
    "One instance of each service running on each of the 20+ cluster nodes\n",
    "\n",
    "First version (ca. 2009) implemented with [Twisted](https://twistedmatrix.com/trac/).\n",
    "\n",
    "Now using [Celery](http://www.celeryproject.org), with [RabbitMQ](https://www.rabbitmq.com) as message broker, and [Redis](http://redis.io) as results backend."
   ]
  },
  {
   "cell_type": "markdown",
   "metadata": {
    "slideshow": {
     "slide_type": "slide"
    }
   },
   "source": [
    "## The Python services: The Twisted days\n",
    "\n",
    "A central _broker_ process, written using Twisted, accepted HTTP requests from the Django layer.\n",
    "\n",
    "The broker processes dispatched requests to the service implementations using raw sockets.\n",
    "\n",
    "A library called `servicelib` encapsulated all this.\n",
    "\n",
    "```python\n",
    "# The inevitable `echo` and `sum` services\n",
    "from servicelib import errors, start_services\n",
    "\n",
    "\n",
    "def echo_service(context, *args):\n",
    "    context.log.debug(\"Executing echo() request from: %s\",\n",
    "                      context.user)\n",
    "    return \" \".join(args)\n",
    "\n",
    "def sum_service(context, *args):\n",
    "    try:\n",
    "        args = [float(a) for a in args]\n",
    "    except:\n",
    "        raise errors.BadRequest(\"Invalid args: %s\" % (args,))\n",
    "    return sum(args)\n",
    "\n",
    "\n",
    "if __name__ == \"__main__\":\n",
    "    start_services({\"name\": \"sum\", \"execute\": \"sum_survice\"},\n",
    "                   {\"name\": \"echo\", \"execute\": \"echo_service\"})\n",
    "```"
   ]
  },
  {
   "cell_type": "markdown",
   "metadata": {
    "slideshow": {
     "slide_type": "slide"
    }
   },
   "source": [
    "## The Python services: The orchestrator service\n",
    "\n",
    "A service called `orchestrator` let us build complex call trees:\n",
    "\n",
    "![A service call tree](forecaster-calltree.png)"
   ]
  },
  {
   "cell_type": "markdown",
   "metadata": {
    "slideshow": {
     "slide_type": "slide"
    }
   },
   "source": [
    "## The Python services: The orchestrator service (II)\n",
    "\n",
    "A service called `orchestrator` let us build complex call trees:\n",
    "\n",
    "```python\n",
    "from servicelib.client import Broker\n",
    "\n",
    "\n",
    "broker = Broker()\n",
    "broker.execute(\"orchestrator\",\n",
    "               {\n",
    "                 \"render\": [\n",
    "                     \"plot\": [\n",
    "                         \"retrieve\": [\n",
    "                             \"mslp\",\n",
    "                         ]\n",
    "                     ],\n",
    "                     \"plot\": [\n",
    "                         \"wind_speed\": [\n",
    "                             \"retrive\": [\n",
    "                                 \"10mw_u\"\n",
    "                             ],\n",
    "                             \"retrieve\": [\n",
    "                                 \"10mw_v\"\n",
    "                             ]\n",
    "                         ]\n",
    "                     ],\n",
    "                     \"plot\": [\n",
    "                         \"coastlines\"\n",
    "                     ]\n",
    "                 ]\n",
    "               })\n",
    "```"
   ]
  },
  {
   "cell_type": "markdown",
   "metadata": {
    "slideshow": {
     "slide_type": "slide"
    }
   },
   "source": [
    "## The Python services: High-level services\n",
    "\n",
    "We also built a macro library to let our meteorologist write higher-level services:\n",
    "\n",
    "```python\n",
    "from metview.macro import retrieve, sqrt\n",
    "\n",
    "def wind_speed(r):\n",
    "    if r['levtype'] == 'sfc':\n",
    "        u = '165.128'\n",
    "        v = '166.128'\n",
    "    else:\n",
    "        u = '131.128'\n",
    "        v = '132.128'\n",
    "\n",
    "    r['param'] = u\n",
    "    u = retrieve(r)\n",
    "\n",
    "    r['param'] = v\n",
    "    v = retrieve(r)\n",
    "\n",
    "    return sqrt(u * u + v * v)\n",
    "\n",
    "if __name__ == \"__main__\":\n",
    "    import sys\n",
    "    from metview.macro import run\n",
    "\n",
    "return run(wind_speed, sys.argv[1:])\n",
    "```"
   ]
  },
  {
   "cell_type": "markdown",
   "metadata": {
    "slideshow": {
     "slide_type": "slide"
    }
   },
   "source": [
    "## The Python services: High-level services (II)\n",
    "\n",
    "```python\n",
    "RD     = 287.05\n",
    "RV     = 461.51\n",
    "VTMPC1 = RV/RD-1.\n",
    "TMELT  = 273.16\n",
    "C1ES   = 610.78\n",
    "C2ES   = C1ES*RD/RV\n",
    "C3LES  = 17.269\n",
    "C3IES  = 21.875\n",
    "C4LES  = 35.86\n",
    "C4IES  = 7.66\n",
    "\n",
    "def relative_humidity(r):\n",
    "    level = int(r[\"levelist\"]) \n",
    "\n",
    "    r['param'] = '130.128' \n",
    "    t = retrieve(r)\n",
    "\n",
    "    r['param'] = '133.128'\n",
    "    q = retrieve(r)\n",
    "\n",
    "    ice = (t <  TMELT)\n",
    "    water = (t >= TMELT)\n",
    "\n",
    "    z1 = ice*C3IES + water*C3LES\n",
    "    z2 = ice*C4LES + water*C4LES\n",
    "\n",
    "    relhuma = C2ES * exp(z1*(t-TMELT) / (t-z2));\n",
    "    relhuma = level * 100. / relhuma\n",
    "\n",
    "    return q * 100. * (relhuma - VTMPC1)\n",
    "```"
   ]
  },
  {
   "cell_type": "markdown",
   "metadata": {
    "slideshow": {
     "slide_type": "slide"
    }
   },
   "source": [
    "## The Python services: Caching\n",
    "\n",
    "We cache as much as we can _everywhere_ with `memcached`. Caching at the services level is the most effective option.\n",
    "\n",
    "```python\n",
    "from cache import cache_control\n",
    "\n",
    "# A sample Python service\n",
    "@cache_control(time=24*60*60)\n",
    "def retrieve(context, request):\n",
    "    # ..\n",
    "```"
   ]
  },
  {
   "cell_type": "markdown",
   "metadata": {
    "slideshow": {
     "slide_type": "slide"
    }
   },
   "source": [
    "## The Python services: Caching (2)\n",
    "\n",
    "A request with no caching:\n",
    "\n",
    "![A request with no caching](./forecaster-no-cache.png)"
   ]
  },
  {
   "cell_type": "markdown",
   "metadata": {
    "slideshow": {
     "slide_type": "slide"
    }
   },
   "source": [
    "## The Python services: Caching (3)\n",
    "\n",
    "A request with caching:\n",
    "\n",
    "![A request with no caching](./forecaster-cache.png)"
   ]
  },
  {
   "cell_type": "markdown",
   "metadata": {
    "slideshow": {
     "slide_type": "slide"
    }
   },
   "source": [
    "## The Python services: From Twisted to Celery\n",
    "\n",
    "In 2011-2012 we switched from Twisted to Celery for the services layer, because:\n",
    "\n",
    "  * Not everybody felt comfortable with Twisted's asynchronous programming model\n",
    "  * The services broker was difficult to debug\n",
    "  * We needed to implement queueing and QOS in the services broker -- lots of work, already done in Celery.\n",
    "  \n",
    "Moving to Celery meant a rewrite of our `servicelib` library. All services remained unchanged.\n",
    "\n",
    "We got rid of our services broker process, since Celery uses RabbitMQ. Rock solid setup now!"
   ]
  },
  {
   "cell_type": "markdown",
   "metadata": {
    "slideshow": {
     "slide_type": "slide"
    }
   },
   "source": [
    "## Data storage and indexing\n",
    "\n",
    "As soon as the supercomputer runs the model, we push the data for the new cycle into our web cluster.\n",
    "\n",
    "We push about 1 TB of fresh data every day.\n",
    "\n",
    "Within the web cluster, data is available to all services via HTTP, served with local instances of [Nginx](http://nginx.org)\n",
    "\n",
    "Data becomes available to our users about 30 minutes after it has been pushed, following ECMWF's official schedule of data availability.\n",
    "\n",
    "We use [MongoDB](https://www.mongodb.org) for keeping track of the data."
   ]
  },
  {
   "cell_type": "markdown",
   "metadata": {
    "slideshow": {
     "slide_type": "slide"
    }
   },
   "source": [
    "## A MongoDB index entry\n",
    "\n",
    "```\n",
    "> db.fields.findOne()\n",
    "{\n",
    "\t\"domain\" : \"g\",\n",
    "    \"class\" : \"od\"\n",
    "\t\"type\" : \"em\",\n",
    "\t\"param\" : \"151.128\",\n",
    "\t\"param_alt\" : \"msl\",\n",
    "\t\"stream\" : \"enfo\",\n",
    "\t\"levtype\" : \"sfc\",\n",
    "\t\"expver\" : \"0001\",\n",
    "    \"base_time\" : ISODate(\"2013-04-08T00:00:00Z\"),\n",
    "    \"step\" : 354,\n",
    "    \"valid_time\" : ISODate(\"2013-04-22T18:00:00Z\"),\n",
    "    \n",
    "    \"active\": true,\n",
    "    \n",
    "\t\"locations\" : [\n",
    "\t\t{\n",
    "\t\t\t\"offset\" : 0,\n",
    "\t\t\t\"url\" :\"http://host42.ecmwf.int/data0000.grib\",\n",
    "\t\t\t\"length\" : 4158\n",
    "\t\t}\n",
    "\t]\n",
    "}\n",
    ">\n",
    "```"
   ]
  },
  {
   "cell_type": "markdown",
   "metadata": {
    "slideshow": {
     "slide_type": "slide"
    }
   },
   "source": [
    "## The Python MongoDB API\n",
    "\n",
    "Very clean API, no impedance mismatch with the requests coming from the Javascript UI --- no need for a complex object-to-relational mapping:\n",
    "\n",
    "```python\n",
    "import pymongo\n",
    "\n",
    "client = pyMongo.MongoClient(\"mongodb://host:27017/\")\n",
    "db = client[\"fields\"]\n",
    "\n",
    "for rec in db.fields.find({\"param\": \"151.128\", \"base_time\": now}):\n",
    "    for loc in rec[\"locations\"]:\n",
    "        download(url=loc[\"url\"],\n",
    "                 offset=loc[\"offset\"],\n",
    "                 length=loc[\"length\"])\n",
    "        # ...\n",
    "```"
   ]
  },
  {
   "cell_type": "markdown",
   "metadata": {
    "slideshow": {
     "slide_type": "slide"
    }
   },
   "source": [
    "## MongoDB issues\n",
    "\n",
    "  * Write operations block the whole collection (makes pushing data slow).\n",
    "  * Update queries also block the whole collection (makes activation of data slow).\n",
    "  * When a new cycle is available from our supercomputer, we need to do lots of insertions and updates.\n",
    "  * Every day we remove 20% of the database entries, and add a new 20%. Fragmentation hurts!\n",
    "  \n",
    "We're moving now to MongoDB 3 (no more collection-level locks, better handling of fragmentation), and things look better."
   ]
  },
  {
   "cell_type": "markdown",
   "metadata": {
    "slideshow": {
     "slide_type": "slide"
    }
   },
   "source": [
    "## Public data sets: Batch access to data\n",
    "\n",
    "http://apps.ecmwf.int/datasets: A free service to download public data sets (requires registration)\n",
    "\n",
    "![Public datasets](./datasets-home.png)"
   ]
  },
  {
   "cell_type": "markdown",
   "metadata": {
    "slideshow": {
     "slide_type": "slide"
    }
   },
   "source": [
    "## Public data sets: Batch access to data (2)\n",
    "\n",
    "The UI lets you choose what data to download:\n",
    "\n",
    "![Public datasets](./datasets-menu.png)"
   ]
  },
  {
   "cell_type": "markdown",
   "metadata": {
    "slideshow": {
     "slide_type": "slide"
    }
   },
   "source": [
    "## Public data sets: Batch access to data (3)\n",
    "\n",
    "Users' requests are queued, processed and eventually results arrive:\n",
    "\n",
    "![Public datasets](./datasets-completed.png)"
   ]
  }
 ],
 "metadata": {
  "celltoolbar": "Slideshow",
  "kernelspec": {
   "display_name": "Python 2",
   "language": "python",
   "name": "python2"
  },
  "language_info": {
   "codemirror_mode": {
    "name": "ipython",
    "version": 2
   },
   "file_extension": ".py",
   "mimetype": "text/x-python",
   "name": "python",
   "nbconvert_exporter": "python",
   "pygments_lexer": "ipython2",
   "version": "2.7.10"
  }
 },
 "nbformat": 4,
 "nbformat_minor": 0
}
